{
 "cells": [
  {
   "cell_type": "code",
   "execution_count": 1,
   "id": "faf714ee",
   "metadata": {},
   "outputs": [
    {
     "data": {
      "text/plain": [
       "'\\nNote:\\nNational ID Card images must be inserted horizontally\\n'"
      ]
     },
     "execution_count": 1,
     "metadata": {},
     "output_type": "execute_result"
    }
   ],
   "source": [
    "import cv2\n",
    "import pytesseract\n",
    "import numpy as np\n",
    "import pandas as pd\n",
    "import matplotlib.pyplot as plt\n",
    "\n",
    "pytesseract.pytesseract.tesseract_cmd = r\"C:\\Program Files\\Tesseract-OCR\\tesseract.exe\"\n",
    "\n",
    "img_path = \"new1.jpg\"\n",
    "config = \"--psm 4\"\n",
    "\n",
    "\"\"\"\n",
    "Note:\n",
    "National ID Card images must be inserted horizontally\n",
    "\"\"\""
   ]
  },
  {
   "cell_type": "markdown",
   "id": "06656cef",
   "metadata": {},
   "source": [
    "# 1) Load the image in grayscale"
   ]
  },
  {
   "cell_type": "code",
   "execution_count": 2,
   "id": "7943f856",
   "metadata": {},
   "outputs": [
    {
     "data": {
      "text/plain": [
       "<Figure size 504x360 with 0 Axes>"
      ]
     },
     "execution_count": 2,
     "metadata": {},
     "output_type": "execute_result"
    },
    {
     "data": {
      "text/plain": [
       "<Figure size 504x360 with 0 Axes>"
      ]
     },
     "metadata": {},
     "output_type": "display_data"
    }
   ],
   "source": [
    "img = cv2.imread(img_path, 0)\n",
    "\n",
    "plt.figure(figsize=(7,5))\n",
    "#plt.imshow(cv2.cvtColor(img, cv2.COLOR_BGR2RGB)), plt.title(\"color image\")"
   ]
  },
  {
   "cell_type": "markdown",
   "id": "04372db9",
   "metadata": {},
   "source": [
    "# 2) Resizeg the image"
   ]
  },
  {
   "cell_type": "code",
   "execution_count": 3,
   "id": "517f96d9",
   "metadata": {},
   "outputs": [
    {
     "data": {
      "text/plain": [
       "<Figure size 504x360 with 0 Axes>"
      ]
     },
     "execution_count": 3,
     "metadata": {},
     "output_type": "execute_result"
    },
    {
     "data": {
      "text/plain": [
       "<Figure size 504x360 with 0 Axes>"
      ]
     },
     "metadata": {},
     "output_type": "display_data"
    }
   ],
   "source": [
    "img_resize = cv2.resize(img, (None), fx = 0.5, fy = 0.5)\n",
    "\n",
    "plt.figure(figsize=(7,5))\n",
    "#plt.imshow(cv2.cvtColor(img_resize, cv2.COLOR_BGR2RGB)), plt.title(\"resized color image\")"
   ]
  },
  {
   "cell_type": "markdown",
   "id": "05808c60",
   "metadata": {},
   "source": [
    "# 3) Thresholding"
   ]
  },
  {
   "cell_type": "markdown",
   "id": "f9f89bc1",
   "metadata": {},
   "source": [
    "## 3.1) Convert image to black and white using Binart Inverse Thresholding "
   ]
  },
  {
   "cell_type": "code",
   "execution_count": 4,
   "id": "743b94bd",
   "metadata": {},
   "outputs": [
    {
     "data": {
      "text/plain": [
       "<Figure size 504x360 with 0 Axes>"
      ]
     },
     "execution_count": 4,
     "metadata": {},
     "output_type": "execute_result"
    },
    {
     "data": {
      "text/plain": [
       "<Figure size 504x360 with 0 Axes>"
      ]
     },
     "metadata": {},
     "output_type": "display_data"
    }
   ],
   "source": [
    "_, img_thresh1 = cv2.threshold(img_resize, 70, 140, cv2.THRESH_BINARY_INV)\n",
    "\n",
    "plt.figure(figsize=(7,5))\n",
    "#plt.imshow(img_thresh1, \"gray\")"
   ]
  },
  {
   "cell_type": "markdown",
   "id": "c00a0947",
   "metadata": {},
   "source": [
    "## 3.2) Convert image to black and white using Adaptive Thresholding (Gaussian Mean Thresholding)"
   ]
  },
  {
   "cell_type": "code",
   "execution_count": 5,
   "id": "a26c7e67",
   "metadata": {},
   "outputs": [
    {
     "data": {
      "text/plain": [
       "<Figure size 504x360 with 0 Axes>"
      ]
     },
     "execution_count": 5,
     "metadata": {},
     "output_type": "execute_result"
    },
    {
     "data": {
      "text/plain": [
       "<Figure size 504x360 with 0 Axes>"
      ]
     },
     "metadata": {},
     "output_type": "display_data"
    }
   ],
   "source": [
    "img_thresh2 = cv2.adaptiveThreshold(img_resize, 255, cv2.ADAPTIVE_THRESH_GAUSSIAN_C, cv2.THRESH_BINARY, 281, 81)\n",
    "\n",
    "plt.figure(figsize=(7,5))\n",
    "#plt.imshow(img_thresh2, \"gray\")"
   ]
  },
  {
   "cell_type": "markdown",
   "id": "9572a1af",
   "metadata": {},
   "source": [
    "# 4) Morphological Transformations"
   ]
  },
  {
   "cell_type": "markdown",
   "id": "e2daa6ff",
   "metadata": {},
   "source": [
    "# 4.2) Dilation"
   ]
  },
  {
   "cell_type": "code",
   "execution_count": 6,
   "id": "3a27ea62",
   "metadata": {},
   "outputs": [
    {
     "data": {
      "text/plain": [
       "<Figure size 504x360 with 0 Axes>"
      ]
     },
     "execution_count": 6,
     "metadata": {},
     "output_type": "execute_result"
    },
    {
     "data": {
      "text/plain": [
       "<Figure size 504x360 with 0 Axes>"
      ]
     },
     "metadata": {},
     "output_type": "display_data"
    }
   ],
   "source": [
    "kernel = np.ones((3,3),np.uint8)\n",
    "dilation = cv2.dilate(img_thresh1, kernel, iterations = 1)\n",
    "\n",
    "plt.figure(figsize=(7,5))\n",
    "#plt.imshow(dilation, \"gray\"), plt.title(\"Dilation image\")"
   ]
  },
  {
   "cell_type": "markdown",
   "id": "2da3dcc3",
   "metadata": {},
   "source": [
    "## 4.1) Opening"
   ]
  },
  {
   "cell_type": "code",
   "execution_count": 7,
   "id": "a48f1524",
   "metadata": {},
   "outputs": [],
   "source": [
    "kernel = np.ones((4,4),np.uint8)\n",
    "opening_img = cv2.morphologyEx(img_thresh2, cv2.MORPH_OPEN, kernel)\n",
    "#plt.imshow(opening_img, \"gray\"), plt.title(\"opening image\")"
   ]
  },
  {
   "cell_type": "markdown",
   "id": "db6d4062",
   "metadata": {},
   "source": [
    "# 5) Apply Tesseract OCR"
   ]
  },
  {
   "cell_type": "code",
   "execution_count": 8,
   "id": "e2db7f4f",
   "metadata": {},
   "outputs": [
    {
     "name": "stdout",
     "output_type": "stream",
     "text": [
      "-----------------------------------------------------------------------------\n"
     ]
    }
   ],
   "source": [
    "text1 = pytesseract.image_to_string(dilation, config=config,lang=\"ara\")\n",
    "#print(text1)\n",
    "\n",
    "print(\"-----------------------------------------------------------------------------\")\n",
    "\n",
    "\n",
    "text2 = pytesseract.image_to_string(opening_img, config=config,lang=\"ara\")\n",
    "#print(text2)"
   ]
  },
  {
   "cell_type": "code",
   "execution_count": 9,
   "id": "44eaff80",
   "metadata": {},
   "outputs": [],
   "source": [
    "#print(text2.splitlines())"
   ]
  },
  {
   "cell_type": "code",
   "execution_count": 10,
   "id": "6d866f62",
   "metadata": {},
   "outputs": [],
   "source": [
    "columns_lst = [[\"first name\", \"last name\", \"Address\", \"Governorate\"],\n",
    "               [text2.splitlines()[0], text2.splitlines()[1], text2.splitlines()[2], text2.splitlines()[3]]]\n",
    "\n",
    "df = pd.DataFrame(columns_lst, columns=[\"first name\", \"last name\", \"Address\", \"Governorate\"])\n",
    "df = df.drop(0)\n",
    "#df"
   ]
  }
 ],
 "metadata": {
  "kernelspec": {
   "display_name": "Python 3 (ipykernel)",
   "language": "python",
   "name": "python3"
  },
  "language_info": {
   "codemirror_mode": {
    "name": "ipython",
    "version": 3
   },
   "file_extension": ".py",
   "mimetype": "text/x-python",
   "name": "python",
   "nbconvert_exporter": "python",
   "pygments_lexer": "ipython3",
   "version": "3.9.7"
  }
 },
 "nbformat": 4,
 "nbformat_minor": 5
}
